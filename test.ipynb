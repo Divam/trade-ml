{
 "cells": [
  {
   "cell_type": "code",
   "execution_count": 3,
   "metadata": {},
   "outputs": [
    {
     "name": "stdout",
     "output_type": "stream",
     "text": [
      "             datetime  time_diff_seconds  cumsum   next_180_datetime\n",
      "0 2023-01-03 09:30:00                NaN     NaN                 NaT\n",
      "1 2023-01-03 09:31:00               60.0    60.0 2023-01-03 09:34:00\n",
      "2 2023-01-03 09:32:00               60.0   120.0 2023-01-03 09:35:00\n",
      "3 2023-01-03 09:33:00               60.0   180.0 2023-01-03 09:36:00\n",
      "4 2023-01-03 09:34:00               60.0   240.0 2023-01-03 09:37:00\n",
      "5 2023-01-03 09:35:00               60.0   300.0 2023-01-03 09:38:00\n",
      "6 2023-01-03 09:36:00               60.0   360.0 2023-01-03 09:39:00\n",
      "7 2023-01-03 09:37:00               60.0   420.0                 NaT\n",
      "8 2023-01-03 09:38:00               60.0   480.0                 NaT\n",
      "9 2023-01-03 09:39:00               60.0   540.0                 NaT\n"
     ]
    }
   ],
   "source": [
    "import pandas as pd\n",
    "\n",
    "# Assuming df is your existing DataFrame\n",
    "# Sample Data\n",
    "data = {\n",
    "    'datetime': pd.to_datetime(['2023-01-03 09:30:00', '2023-01-03 09:31:00', '2023-01-03 09:32:00', '2023-01-03 09:33:00',\n",
    "                                '2023-01-03 09:34:00', '2023-01-03 09:35:00', '2023-01-03 09:36:00', '2023-01-03 09:37:00',\n",
    "                                '2023-01-03 09:38:00', '2023-01-03 09:39:00']),\n",
    "    'time_diff_seconds': [None, 60.0, 60.0, 60.0, 60.0, 60.0, 60.0, 60.0, 60.0, 60.0]\n",
    "}\n",
    "df = pd.DataFrame(data)\n",
    "df['cumsum'] = df['time_diff_seconds'].cumsum()\n",
    "\n",
    "# New column to store the result\n",
    "df['next_180_datetime'] = pd.NaT\n",
    "\n",
    "# Iterate through the DataFrame\n",
    "for i in range(len(df)):\n",
    "    # Find the index where cumsum reaches or exceeds 180 more than the current cumsum\n",
    "    target_cumsum = df.at[i, 'cumsum'] + 180\n",
    "    next_index = df[df['cumsum'] >= target_cumsum].index.min()\n",
    "    \n",
    "    # If such an index exists, retrieve the datetime\n",
    "    if pd.notna(next_index):\n",
    "        df.at[i, 'next_180_datetime'] = df.at[next_index, 'datetime']\n",
    "\n",
    "print(df)"
   ]
  },
  {
   "cell_type": "code",
   "execution_count": null,
   "metadata": {},
   "outputs": [],
   "source": []
  }
 ],
 "metadata": {
  "kernelspec": {
   "display_name": "ds_learn",
   "language": "python",
   "name": "python3"
  },
  "language_info": {
   "codemirror_mode": {
    "name": "ipython",
    "version": 3
   },
   "file_extension": ".py",
   "mimetype": "text/x-python",
   "name": "python",
   "nbconvert_exporter": "python",
   "pygments_lexer": "ipython3",
   "version": "3.11.5"
  }
 },
 "nbformat": 4,
 "nbformat_minor": 2
}
